{
 "cells": [
  {
   "cell_type": "code",
   "execution_count": 1,
   "metadata": {},
   "outputs": [],
   "source": [
    "import pandas as pd\n",
    "import numpy as np\n",
    "from category_encoders import TargetEncoder\n",
    "from sklearn.preprocessing import LabelEncoder,MinMaxScaler,StandardScaler\n",
    "import train\n",
    "from train import MLP\n",
    "from Layer import Layer\n",
    "from sklearn.metrics import mean_squared_error as mse \n",
    "from matplotlib import pyplot as plt\n",
    "import loadmodel"
   ]
  },
  {
   "cell_type": "code",
   "execution_count": 2,
   "metadata": {},
   "outputs": [
    {
     "data": {
      "text/html": [
       "<div>\n",
       "<style scoped>\n",
       "    .dataframe tbody tr th:only-of-type {\n",
       "        vertical-align: middle;\n",
       "    }\n",
       "\n",
       "    .dataframe tbody tr th {\n",
       "        vertical-align: top;\n",
       "    }\n",
       "\n",
       "    .dataframe thead th {\n",
       "        text-align: right;\n",
       "    }\n",
       "</style>\n",
       "<table border=\"1\" class=\"dataframe\">\n",
       "  <thead>\n",
       "    <tr style=\"text-align: right;\">\n",
       "      <th></th>\n",
       "      <th>iso_code</th>\n",
       "      <th>continent</th>\n",
       "      <th>location</th>\n",
       "      <th>date</th>\n",
       "      <th>total_cases</th>\n",
       "      <th>new_cases</th>\n",
       "      <th>total_deaths</th>\n",
       "      <th>new_deaths</th>\n",
       "      <th>total_cases_per_million</th>\n",
       "      <th>new_cases_per_million</th>\n",
       "      <th>...</th>\n",
       "      <th>aged_70_older</th>\n",
       "      <th>gdp_per_capita</th>\n",
       "      <th>extreme_poverty</th>\n",
       "      <th>cardiovasc_death_rate</th>\n",
       "      <th>diabetes_prevalence</th>\n",
       "      <th>female_smokers</th>\n",
       "      <th>male_smokers</th>\n",
       "      <th>handwashing_facilities</th>\n",
       "      <th>hospital_beds_per_thousand</th>\n",
       "      <th>life_expectancy</th>\n",
       "    </tr>\n",
       "  </thead>\n",
       "  <tbody>\n",
       "    <tr>\n",
       "      <th>0</th>\n",
       "      <td>AFG</td>\n",
       "      <td>Asia</td>\n",
       "      <td>Afghanistan</td>\n",
       "      <td>2019-12-31</td>\n",
       "      <td>0.0</td>\n",
       "      <td>0.0</td>\n",
       "      <td>0.0</td>\n",
       "      <td>0.0</td>\n",
       "      <td>0.0</td>\n",
       "      <td>0.0</td>\n",
       "      <td>...</td>\n",
       "      <td>1.337</td>\n",
       "      <td>1803.987</td>\n",
       "      <td>NaN</td>\n",
       "      <td>597.029</td>\n",
       "      <td>9.59</td>\n",
       "      <td>NaN</td>\n",
       "      <td>NaN</td>\n",
       "      <td>37.746</td>\n",
       "      <td>0.5</td>\n",
       "      <td>64.83</td>\n",
       "    </tr>\n",
       "    <tr>\n",
       "      <th>1</th>\n",
       "      <td>AFG</td>\n",
       "      <td>Asia</td>\n",
       "      <td>Afghanistan</td>\n",
       "      <td>2020-01-01</td>\n",
       "      <td>0.0</td>\n",
       "      <td>0.0</td>\n",
       "      <td>0.0</td>\n",
       "      <td>0.0</td>\n",
       "      <td>0.0</td>\n",
       "      <td>0.0</td>\n",
       "      <td>...</td>\n",
       "      <td>1.337</td>\n",
       "      <td>1803.987</td>\n",
       "      <td>NaN</td>\n",
       "      <td>597.029</td>\n",
       "      <td>9.59</td>\n",
       "      <td>NaN</td>\n",
       "      <td>NaN</td>\n",
       "      <td>37.746</td>\n",
       "      <td>0.5</td>\n",
       "      <td>64.83</td>\n",
       "    </tr>\n",
       "    <tr>\n",
       "      <th>2</th>\n",
       "      <td>AFG</td>\n",
       "      <td>Asia</td>\n",
       "      <td>Afghanistan</td>\n",
       "      <td>2020-01-02</td>\n",
       "      <td>0.0</td>\n",
       "      <td>0.0</td>\n",
       "      <td>0.0</td>\n",
       "      <td>0.0</td>\n",
       "      <td>0.0</td>\n",
       "      <td>0.0</td>\n",
       "      <td>...</td>\n",
       "      <td>1.337</td>\n",
       "      <td>1803.987</td>\n",
       "      <td>NaN</td>\n",
       "      <td>597.029</td>\n",
       "      <td>9.59</td>\n",
       "      <td>NaN</td>\n",
       "      <td>NaN</td>\n",
       "      <td>37.746</td>\n",
       "      <td>0.5</td>\n",
       "      <td>64.83</td>\n",
       "    </tr>\n",
       "    <tr>\n",
       "      <th>3</th>\n",
       "      <td>AFG</td>\n",
       "      <td>Asia</td>\n",
       "      <td>Afghanistan</td>\n",
       "      <td>2020-01-03</td>\n",
       "      <td>0.0</td>\n",
       "      <td>0.0</td>\n",
       "      <td>0.0</td>\n",
       "      <td>0.0</td>\n",
       "      <td>0.0</td>\n",
       "      <td>0.0</td>\n",
       "      <td>...</td>\n",
       "      <td>1.337</td>\n",
       "      <td>1803.987</td>\n",
       "      <td>NaN</td>\n",
       "      <td>597.029</td>\n",
       "      <td>9.59</td>\n",
       "      <td>NaN</td>\n",
       "      <td>NaN</td>\n",
       "      <td>37.746</td>\n",
       "      <td>0.5</td>\n",
       "      <td>64.83</td>\n",
       "    </tr>\n",
       "    <tr>\n",
       "      <th>4</th>\n",
       "      <td>AFG</td>\n",
       "      <td>Asia</td>\n",
       "      <td>Afghanistan</td>\n",
       "      <td>2020-01-04</td>\n",
       "      <td>0.0</td>\n",
       "      <td>0.0</td>\n",
       "      <td>0.0</td>\n",
       "      <td>0.0</td>\n",
       "      <td>0.0</td>\n",
       "      <td>0.0</td>\n",
       "      <td>...</td>\n",
       "      <td>1.337</td>\n",
       "      <td>1803.987</td>\n",
       "      <td>NaN</td>\n",
       "      <td>597.029</td>\n",
       "      <td>9.59</td>\n",
       "      <td>NaN</td>\n",
       "      <td>NaN</td>\n",
       "      <td>37.746</td>\n",
       "      <td>0.5</td>\n",
       "      <td>64.83</td>\n",
       "    </tr>\n",
       "  </tbody>\n",
       "</table>\n",
       "<p>5 rows × 36 columns</p>\n",
       "</div>"
      ],
      "text/plain": [
       "  iso_code continent     location        date  total_cases  new_cases  \\\n",
       "0      AFG      Asia  Afghanistan  2019-12-31          0.0        0.0   \n",
       "1      AFG      Asia  Afghanistan  2020-01-01          0.0        0.0   \n",
       "2      AFG      Asia  Afghanistan  2020-01-02          0.0        0.0   \n",
       "3      AFG      Asia  Afghanistan  2020-01-03          0.0        0.0   \n",
       "4      AFG      Asia  Afghanistan  2020-01-04          0.0        0.0   \n",
       "\n",
       "   total_deaths  new_deaths  total_cases_per_million  new_cases_per_million  \\\n",
       "0           0.0         0.0                      0.0                    0.0   \n",
       "1           0.0         0.0                      0.0                    0.0   \n",
       "2           0.0         0.0                      0.0                    0.0   \n",
       "3           0.0         0.0                      0.0                    0.0   \n",
       "4           0.0         0.0                      0.0                    0.0   \n",
       "\n",
       "   ...  aged_70_older  gdp_per_capita  extreme_poverty  cardiovasc_death_rate  \\\n",
       "0  ...          1.337        1803.987              NaN                597.029   \n",
       "1  ...          1.337        1803.987              NaN                597.029   \n",
       "2  ...          1.337        1803.987              NaN                597.029   \n",
       "3  ...          1.337        1803.987              NaN                597.029   \n",
       "4  ...          1.337        1803.987              NaN                597.029   \n",
       "\n",
       "   diabetes_prevalence  female_smokers  male_smokers  handwashing_facilities  \\\n",
       "0                 9.59             NaN           NaN                  37.746   \n",
       "1                 9.59             NaN           NaN                  37.746   \n",
       "2                 9.59             NaN           NaN                  37.746   \n",
       "3                 9.59             NaN           NaN                  37.746   \n",
       "4                 9.59             NaN           NaN                  37.746   \n",
       "\n",
       "   hospital_beds_per_thousand  life_expectancy  \n",
       "0                         0.5            64.83  \n",
       "1                         0.5            64.83  \n",
       "2                         0.5            64.83  \n",
       "3                         0.5            64.83  \n",
       "4                         0.5            64.83  \n",
       "\n",
       "[5 rows x 36 columns]"
      ]
     },
     "execution_count": 2,
     "metadata": {},
     "output_type": "execute_result"
    }
   ],
   "source": [
    "df=pd.read_csv('covid-data.csv')\n",
    "df.head()"
   ]
  },
  {
   "cell_type": "code",
   "execution_count": 3,
   "metadata": {},
   "outputs": [],
   "source": [
    "df=df.dropna(subset=['continent'])  #drop the rows of international and world as they dont have continent\n",
    "data=df.loc[:,['continent','location','date','new_cases','new_deaths']] "
   ]
  },
  {
   "cell_type": "code",
   "execution_count": 4,
   "metadata": {},
   "outputs": [
    {
     "name": "stdout",
     "output_type": "stream",
     "text": [
      "<class 'pandas.core.frame.DataFrame'>\n",
      "Int64Index: 34590 entries, 0 to 34589\n",
      "Data columns (total 5 columns):\n",
      " #   Column      Non-Null Count  Dtype  \n",
      "---  ------      --------------  -----  \n",
      " 0   continent   34590 non-null  object \n",
      " 1   location    34590 non-null  object \n",
      " 2   date        34590 non-null  object \n",
      " 3   new_cases   34249 non-null  float64\n",
      " 4   new_deaths  34249 non-null  float64\n",
      "dtypes: float64(2), object(3)\n",
      "memory usage: 1.6+ MB\n"
     ]
    }
   ],
   "source": [
    "data.info()"
   ]
  },
  {
   "cell_type": "code",
   "execution_count": 5,
   "metadata": {},
   "outputs": [
    {
     "data": {
      "text/html": [
       "<div>\n",
       "<style scoped>\n",
       "    .dataframe tbody tr th:only-of-type {\n",
       "        vertical-align: middle;\n",
       "    }\n",
       "\n",
       "    .dataframe tbody tr th {\n",
       "        vertical-align: top;\n",
       "    }\n",
       "\n",
       "    .dataframe thead th {\n",
       "        text-align: right;\n",
       "    }\n",
       "</style>\n",
       "<table border=\"1\" class=\"dataframe\">\n",
       "  <thead>\n",
       "    <tr style=\"text-align: right;\">\n",
       "      <th></th>\n",
       "      <th>new_cases</th>\n",
       "      <th>new_deaths</th>\n",
       "    </tr>\n",
       "  </thead>\n",
       "  <tbody>\n",
       "    <tr>\n",
       "      <th>count</th>\n",
       "      <td>34249.000000</td>\n",
       "      <td>34249.000000</td>\n",
       "    </tr>\n",
       "    <tr>\n",
       "      <th>mean</th>\n",
       "      <td>540.713101</td>\n",
       "      <td>20.454086</td>\n",
       "    </tr>\n",
       "    <tr>\n",
       "      <th>std</th>\n",
       "      <td>3373.001050</td>\n",
       "      <td>122.794996</td>\n",
       "    </tr>\n",
       "    <tr>\n",
       "      <th>min</th>\n",
       "      <td>-2461.000000</td>\n",
       "      <td>-1918.000000</td>\n",
       "    </tr>\n",
       "    <tr>\n",
       "      <th>25%</th>\n",
       "      <td>0.000000</td>\n",
       "      <td>0.000000</td>\n",
       "    </tr>\n",
       "    <tr>\n",
       "      <th>50%</th>\n",
       "      <td>6.000000</td>\n",
       "      <td>0.000000</td>\n",
       "    </tr>\n",
       "    <tr>\n",
       "      <th>75%</th>\n",
       "      <td>105.000000</td>\n",
       "      <td>2.000000</td>\n",
       "    </tr>\n",
       "    <tr>\n",
       "      <th>max</th>\n",
       "      <td>78427.000000</td>\n",
       "      <td>4928.000000</td>\n",
       "    </tr>\n",
       "  </tbody>\n",
       "</table>\n",
       "</div>"
      ],
      "text/plain": [
       "          new_cases    new_deaths\n",
       "count  34249.000000  34249.000000\n",
       "mean     540.713101     20.454086\n",
       "std     3373.001050    122.794996\n",
       "min    -2461.000000  -1918.000000\n",
       "25%        0.000000      0.000000\n",
       "50%        6.000000      0.000000\n",
       "75%      105.000000      2.000000\n",
       "max    78427.000000   4928.000000"
      ]
     },
     "execution_count": 5,
     "metadata": {},
     "output_type": "execute_result"
    }
   ],
   "source": [
    "data.describe()"
   ]
  },
  {
   "cell_type": "code",
   "execution_count": 6,
   "metadata": {
    "scrolled": true
   },
   "outputs": [
    {
     "data": {
      "text/plain": [
       "continent       0\n",
       "location        0\n",
       "date            0\n",
       "new_cases     341\n",
       "new_deaths    341\n",
       "dtype: int64"
      ]
     },
     "execution_count": 6,
     "metadata": {},
     "output_type": "execute_result"
    }
   ],
   "source": [
    "data.isnull().sum()"
   ]
  },
  {
   "cell_type": "code",
   "execution_count": 7,
   "metadata": {
    "scrolled": true
   },
   "outputs": [
    {
     "data": {
      "text/plain": [
       "0        Afghanistan\n",
       "1        Afghanistan\n",
       "2        Afghanistan\n",
       "3        Afghanistan\n",
       "4        Afghanistan\n",
       "            ...     \n",
       "34585       Zimbabwe\n",
       "34586       Zimbabwe\n",
       "34587       Zimbabwe\n",
       "34588       Zimbabwe\n",
       "34589       Zimbabwe\n",
       "Name: location, Length: 34590, dtype: category\n",
       "Categories (210, object): [Afghanistan, Albania, Algeria, Andorra, ..., Western Sahara, Yemen, Zambia, Zimbabwe]"
      ]
     },
     "execution_count": 7,
     "metadata": {},
     "output_type": "execute_result"
    }
   ],
   "source": [
    "#Imputing the null values using backward fill and #converting continent and location to category\n",
    "\n",
    "data['new_cases'].fillna(method='bfill',inplace=True)\n",
    "data['new_deaths'].fillna(method='bfill',inplace=True)\n",
    "data['continent'].astype('category')\n",
    "data['location'].astype('category')"
   ]
  },
  {
   "cell_type": "code",
   "execution_count": 8,
   "metadata": {},
   "outputs": [],
   "source": [
    "data['date'] =  pd.to_datetime(data['date']) #convert date to date-time\n",
    "k=[]\n",
    "for x in data['date']:\n",
    "    k.append(int((x-data['date'][0]).days))           #calculate Day from Data from Day0 to Day217\n",
    "df2=pd.DataFrame(k,index=None,columns=['Day'])              \n",
    "data['Day']=df2\n",
    "pn=[]\n",
    "p_d=[]\n",
    "prev=0\n",
    "for x in range(0,data.shape[0]):\n",
    "    if(data['Day'][x]==0):                          #calculate previousDay newcases\n",
    "        pn.append(prev)\n",
    "    else:\n",
    "        pn.append(data['new_cases'][x-1])\n",
    "d2=pd.DataFrame(pn,columns=['Previous_day case'])\n",
    "data['prev_new_cases']=d2\n",
    "p_d=[]\n",
    "prev=0\n",
    "for x in range(0,data.shape[0]):\n",
    "    if(data['Day'][x]==0):\n",
    "        p_d.append(prev)\n",
    "    else:\n",
    "        p_d.append(data['new_deaths'][x-1])      #calculate previous day new deaths\n",
    "d2=pd.DataFrame(p_d,columns=['Previous_day death'])\n",
    "data['prev_day_death']=d2"
   ]
  },
  {
   "cell_type": "code",
   "execution_count": 9,
   "metadata": {},
   "outputs": [],
   "source": [
    "te=TargetEncoder()              #Target encoder to encode location based on the target variable New_cases\n",
    "le=LabelEncoder()               #LabelEncoder to encode continent\n",
    "St=StandardScaler()             #StandardScaler to Scale features\n",
    "minmax=MinMaxScaler(feature_range=(-10,10))   #MinMax scaler to scale features\n",
    "data['Continent_encoded']=le.fit_transform(data['continent'])\n",
    "data['Location_encoded']=te.fit_transform(data['location'],data['new_cases'])"
   ]
  },
  {
   "cell_type": "code",
   "execution_count": 10,
   "metadata": {},
   "outputs": [
    {
     "data": {
      "text/html": [
       "<div>\n",
       "<style scoped>\n",
       "    .dataframe tbody tr th:only-of-type {\n",
       "        vertical-align: middle;\n",
       "    }\n",
       "\n",
       "    .dataframe tbody tr th {\n",
       "        vertical-align: top;\n",
       "    }\n",
       "\n",
       "    .dataframe thead th {\n",
       "        text-align: right;\n",
       "    }\n",
       "</style>\n",
       "<table border=\"1\" class=\"dataframe\">\n",
       "  <thead>\n",
       "    <tr style=\"text-align: right;\">\n",
       "      <th></th>\n",
       "      <th>new_cases</th>\n",
       "      <th>new_deaths</th>\n",
       "      <th>Day</th>\n",
       "      <th>prev_new_cases</th>\n",
       "      <th>prev_day_death</th>\n",
       "      <th>Continent_encoded</th>\n",
       "      <th>Location_encoded</th>\n",
       "    </tr>\n",
       "  </thead>\n",
       "  <tbody>\n",
       "    <tr>\n",
       "      <th>new_cases</th>\n",
       "      <td>1.000000</td>\n",
       "      <td>0.726937</td>\n",
       "      <td>0.102524</td>\n",
       "      <td>0.963944</td>\n",
       "      <td>0.708586</td>\n",
       "      <td>0.109789</td>\n",
       "      <td>0.641004</td>\n",
       "    </tr>\n",
       "    <tr>\n",
       "      <th>new_deaths</th>\n",
       "      <td>0.726937</td>\n",
       "      <td>1.000000</td>\n",
       "      <td>0.054284</td>\n",
       "      <td>0.699623</td>\n",
       "      <td>0.866537</td>\n",
       "      <td>0.125751</td>\n",
       "      <td>0.569142</td>\n",
       "    </tr>\n",
       "    <tr>\n",
       "      <th>Day</th>\n",
       "      <td>0.102524</td>\n",
       "      <td>0.054284</td>\n",
       "      <td>1.000000</td>\n",
       "      <td>0.101088</td>\n",
       "      <td>0.053854</td>\n",
       "      <td>-0.011171</td>\n",
       "      <td>-0.072206</td>\n",
       "    </tr>\n",
       "    <tr>\n",
       "      <th>prev_new_cases</th>\n",
       "      <td>0.963944</td>\n",
       "      <td>0.699623</td>\n",
       "      <td>0.101088</td>\n",
       "      <td>1.000000</td>\n",
       "      <td>0.726883</td>\n",
       "      <td>0.109262</td>\n",
       "      <td>0.633513</td>\n",
       "    </tr>\n",
       "    <tr>\n",
       "      <th>prev_day_death</th>\n",
       "      <td>0.708586</td>\n",
       "      <td>0.866537</td>\n",
       "      <td>0.053854</td>\n",
       "      <td>0.726883</td>\n",
       "      <td>1.000000</td>\n",
       "      <td>0.124978</td>\n",
       "      <td>0.563354</td>\n",
       "    </tr>\n",
       "    <tr>\n",
       "      <th>Continent_encoded</th>\n",
       "      <td>0.109789</td>\n",
       "      <td>0.125751</td>\n",
       "      <td>-0.011171</td>\n",
       "      <td>0.109262</td>\n",
       "      <td>0.124978</td>\n",
       "      <td>1.000000</td>\n",
       "      <td>0.171277</td>\n",
       "    </tr>\n",
       "    <tr>\n",
       "      <th>Location_encoded</th>\n",
       "      <td>0.641004</td>\n",
       "      <td>0.569142</td>\n",
       "      <td>-0.072206</td>\n",
       "      <td>0.633513</td>\n",
       "      <td>0.563354</td>\n",
       "      <td>0.171277</td>\n",
       "      <td>1.000000</td>\n",
       "    </tr>\n",
       "  </tbody>\n",
       "</table>\n",
       "</div>"
      ],
      "text/plain": [
       "                   new_cases  new_deaths       Day  prev_new_cases  \\\n",
       "new_cases           1.000000    0.726937  0.102524        0.963944   \n",
       "new_deaths          0.726937    1.000000  0.054284        0.699623   \n",
       "Day                 0.102524    0.054284  1.000000        0.101088   \n",
       "prev_new_cases      0.963944    0.699623  0.101088        1.000000   \n",
       "prev_day_death      0.708586    0.866537  0.053854        0.726883   \n",
       "Continent_encoded   0.109789    0.125751 -0.011171        0.109262   \n",
       "Location_encoded    0.641004    0.569142 -0.072206        0.633513   \n",
       "\n",
       "                   prev_day_death  Continent_encoded  Location_encoded  \n",
       "new_cases                0.708586           0.109789          0.641004  \n",
       "new_deaths               0.866537           0.125751          0.569142  \n",
       "Day                      0.053854          -0.011171         -0.072206  \n",
       "prev_new_cases           0.726883           0.109262          0.633513  \n",
       "prev_day_death           1.000000           0.124978          0.563354  \n",
       "Continent_encoded        0.124978           1.000000          0.171277  \n",
       "Location_encoded         0.563354           0.171277          1.000000  "
      ]
     },
     "execution_count": 10,
     "metadata": {},
     "output_type": "execute_result"
    }
   ],
   "source": [
    "data.corr()\n"
   ]
  },
  {
   "cell_type": "code",
   "execution_count": 11,
   "metadata": {},
   "outputs": [],
   "source": [
    "data.sort_values(['Day','location'],ascending=[True,True],inplace=True)  #sort according to day "
   ]
  },
  {
   "cell_type": "code",
   "execution_count": 12,
   "metadata": {},
   "outputs": [
    {
     "data": {
      "text/html": [
       "<div>\n",
       "<style scoped>\n",
       "    .dataframe tbody tr th:only-of-type {\n",
       "        vertical-align: middle;\n",
       "    }\n",
       "\n",
       "    .dataframe tbody tr th {\n",
       "        vertical-align: top;\n",
       "    }\n",
       "\n",
       "    .dataframe thead th {\n",
       "        text-align: right;\n",
       "    }\n",
       "</style>\n",
       "<table border=\"1\" class=\"dataframe\">\n",
       "  <thead>\n",
       "    <tr style=\"text-align: right;\">\n",
       "      <th></th>\n",
       "      <th>new_cases</th>\n",
       "      <th>new_deaths</th>\n",
       "      <th>Day</th>\n",
       "      <th>prev_new_cases</th>\n",
       "      <th>prev_day_death</th>\n",
       "      <th>Continent_encoded</th>\n",
       "      <th>Location_encoded</th>\n",
       "    </tr>\n",
       "  </thead>\n",
       "  <tbody>\n",
       "    <tr>\n",
       "      <th>count</th>\n",
       "      <td>30828.000000</td>\n",
       "      <td>30828.000000</td>\n",
       "      <td>30828.000000</td>\n",
       "      <td>30828.000000</td>\n",
       "      <td>30828.000000</td>\n",
       "      <td>30828.000000</td>\n",
       "      <td>30828.000000</td>\n",
       "    </tr>\n",
       "    <tr>\n",
       "      <th>mean</th>\n",
       "      <td>455.548787</td>\n",
       "      <td>19.371675</td>\n",
       "      <td>121.888154</td>\n",
       "      <td>452.491209</td>\n",
       "      <td>19.273161</td>\n",
       "      <td>1.707474</td>\n",
       "      <td>547.195223</td>\n",
       "    </tr>\n",
       "    <tr>\n",
       "      <th>std</th>\n",
       "      <td>2762.389997</td>\n",
       "      <td>119.708495</td>\n",
       "      <td>50.721788</td>\n",
       "      <td>2750.829569</td>\n",
       "      <td>119.594489</td>\n",
       "      <td>1.376435</td>\n",
       "      <td>2181.121557</td>\n",
       "    </tr>\n",
       "    <tr>\n",
       "      <th>min</th>\n",
       "      <td>-2461.000000</td>\n",
       "      <td>-1918.000000</td>\n",
       "      <td>0.000000</td>\n",
       "      <td>-2461.000000</td>\n",
       "      <td>-1918.000000</td>\n",
       "      <td>0.000000</td>\n",
       "      <td>0.022727</td>\n",
       "    </tr>\n",
       "    <tr>\n",
       "      <th>25%</th>\n",
       "      <td>0.000000</td>\n",
       "      <td>0.000000</td>\n",
       "      <td>89.000000</td>\n",
       "      <td>0.000000</td>\n",
       "      <td>0.000000</td>\n",
       "      <td>1.000000</td>\n",
       "      <td>6.330709</td>\n",
       "    </tr>\n",
       "    <tr>\n",
       "      <th>50%</th>\n",
       "      <td>4.000000</td>\n",
       "      <td>0.000000</td>\n",
       "      <td>127.000000</td>\n",
       "      <td>4.000000</td>\n",
       "      <td>0.000000</td>\n",
       "      <td>2.000000</td>\n",
       "      <td>41.136986</td>\n",
       "    </tr>\n",
       "    <tr>\n",
       "      <th>75%</th>\n",
       "      <td>83.000000</td>\n",
       "      <td>2.000000</td>\n",
       "      <td>164.000000</td>\n",
       "      <td>82.000000</td>\n",
       "      <td>2.000000</td>\n",
       "      <td>2.000000</td>\n",
       "      <td>280.374429</td>\n",
       "    </tr>\n",
       "    <tr>\n",
       "      <th>max</th>\n",
       "      <td>76930.000000</td>\n",
       "      <td>4928.000000</td>\n",
       "      <td>200.000000</td>\n",
       "      <td>76930.000000</td>\n",
       "      <td>4928.000000</td>\n",
       "      <td>5.000000</td>\n",
       "      <td>21785.785388</td>\n",
       "    </tr>\n",
       "  </tbody>\n",
       "</table>\n",
       "</div>"
      ],
      "text/plain": [
       "          new_cases    new_deaths           Day  prev_new_cases  \\\n",
       "count  30828.000000  30828.000000  30828.000000    30828.000000   \n",
       "mean     455.548787     19.371675    121.888154      452.491209   \n",
       "std     2762.389997    119.708495     50.721788     2750.829569   \n",
       "min    -2461.000000  -1918.000000      0.000000    -2461.000000   \n",
       "25%        0.000000      0.000000     89.000000        0.000000   \n",
       "50%        4.000000      0.000000    127.000000        4.000000   \n",
       "75%       83.000000      2.000000    164.000000       82.000000   \n",
       "max    76930.000000   4928.000000    200.000000    76930.000000   \n",
       "\n",
       "       prev_day_death  Continent_encoded  Location_encoded  \n",
       "count    30828.000000       30828.000000      30828.000000  \n",
       "mean        19.273161           1.707474        547.195223  \n",
       "std        119.594489           1.376435       2181.121557  \n",
       "min      -1918.000000           0.000000          0.022727  \n",
       "25%          0.000000           1.000000          6.330709  \n",
       "50%          0.000000           2.000000         41.136986  \n",
       "75%          2.000000           2.000000        280.374429  \n",
       "max       4928.000000           5.000000      21785.785388  "
      ]
     },
     "execution_count": 12,
     "metadata": {},
     "output_type": "execute_result"
    }
   ],
   "source": [
    "#Test train split\n",
    "#Day>200 are in Training set and rest in Test Set\n",
    "train_data=data[data['Day']<=200]\n",
    "test_data=data[data['Day']>200]\n",
    "train_data=train_data.sample(frac=1)   #randomly shuffling the Trainingset\n",
    "train_data.describe()"
   ]
  },
  {
   "cell_type": "code",
   "execution_count": 13,
   "metadata": {},
   "outputs": [],
   "source": [
    "#SPLITTING TRAINING SET INTO INPUT FEATURES FOR NET1,NET2 AND TARGET VARAIBLE\n",
    "X_net1_train=train_data.loc[:,['Continent_encoded','Location_encoded']]  \n",
    "Y_train=train_data.loc[:,['new_cases','new_deaths']]\n",
    "X_net2_train=train_data.loc[:,['Day','prev_new_cases','prev_day_death']]"
   ]
  },
  {
   "cell_type": "code",
   "execution_count": 14,
   "metadata": {},
   "outputs": [],
   "source": [
    "#SPLITTING CROSS VALIDATION SET INTO INPUT FEATURES FOR NET1,NET2 AND TARGET VARAIBLE\n",
    "cv_data=train_data[18497:]\n",
    "X_net1_cv=cv_data.loc[:,['Continent_encoded','Location_encoded']]\n",
    "Y_cv=cv_data.loc[:,['new_cases','new_deaths']]\n",
    "X_net2_cv=cv_data.loc[:,['Day','prev_new_cases','prev_day_death']]\n"
   ]
  },
  {
   "cell_type": "code",
   "execution_count": 15,
   "metadata": {},
   "outputs": [],
   "source": [
    "#Test set processing and splitting\n",
    "test_data=test_data[test_data['location']!='Hong Kong']\n",
    "test_data=test_data[test_data['Day']<218]\n",
    "test_days=test_data['Day'].to_numpy()\n",
    "X_test_net1=test_data.loc[:,['Continent_encoded','Location_encoded']]\n",
    "X_test_net2=test_data.loc[:,['prev_new_cases','prev_day_death']]"
   ]
  },
  {
   "cell_type": "code",
   "execution_count": 16,
   "metadata": {},
   "outputs": [
    {
     "name": "stdout",
     "output_type": "stream",
     "text": [
      "shape of Input features of Neural Network1 (30828, 2)\n",
      "shape of Input features of Neural Network1 (30828, 3)\n",
      "shape of Target of Neural Network (30828, 2)\n"
     ]
    }
   ],
   "source": [
    "print('shape of Input features of Neural Network1 '+str(X_net1_train.shape))\n",
    "print('shape of Input features of Neural Network1 '+ str(X_net2_train.shape))\n",
    "print('shape of Target of Neural Network '+ str(Y_train.shape))"
   ]
  },
  {
   "cell_type": "code",
   "execution_count": 17,
   "metadata": {},
   "outputs": [],
   "source": [
    "#scaling the features\n",
    "X_net1_train_scaled=minmax.fit_transform(X_net1_train)\n",
    "Y_train_scaled=St.fit_transform(Y_train)\n",
    "X_net2_train_scaled=X_net2_train\n",
    "X_net2_train_scaled['prev_new_cases']=St.fit_transform(X_net2_train['prev_new_cases'].to_numpy().reshape(-1,1))\n",
    "X_net2_train_scaled['prev_day_death']=St.fit_transform(X_net2_train['prev_day_death'].to_numpy().reshape(-1,1))\n",
    "X_net2_train_scaled=X_net2_train_scaled.to_numpy()\n",
    "X_net1_cv_scaled=minmax.fit_transform(X_net1_cv)\n",
    "X_net2_cv_scaled=X_net2_cv\n",
    "X_net2_cv_scaled['prev_new_cases']=St.fit_transform(X_net2_cv['prev_new_cases'].to_numpy().reshape(-1,1))\n",
    "X_net2_cv_scaled['prev_day_death']=St.fit_transform(X_net2_cv['prev_day_death'].to_numpy().reshape(-1,1))\n",
    "X_net2_cv_scaled=X_net2_cv_scaled.to_numpy()\n",
    "Y_cv_scaled=St.fit_transform(Y_cv)\n",
    "X_test_net1_scaled=minmax.fit_transform(X_test_net1)\n",
    "X_test_net2_scaled=St.fit_transform(X_test_net2)\n",
    "y_test_data_scaled=St.fit_transform(test_data.loc[:,['new_cases','new_deaths']])\n",
    "test_days=test_days.reshape(1,test_days.shape[0])"
   ]
  },
  {
   "cell_type": "code",
   "execution_count": 18,
   "metadata": {},
   "outputs": [
    {
     "name": "stdout",
     "output_type": "stream",
     "text": [
      "cost:1.0001160248941157\n",
      "cost:1.000103217562886\n",
      "cost:1.0000840909011974\n",
      "cost:1.0000574942583729\n",
      "cost:1.0000231726749773\n",
      "cost:0.9999810875929853\n",
      "cost:0.9999316410654837\n",
      "cost:0.9998834706629047\n",
      "cost:0.9998283383244385\n",
      "cost:0.999764720131914\n",
      "cost:0.9996911649231468\n",
      "cost:0.9996048433736803\n",
      "cost:0.9995015304261092\n",
      "cost:0.999375041594607\n",
      "cost:0.9992111891699865\n",
      "cost:0.9990009004920067\n",
      "cost:0.9987406845096611\n",
      "cost:0.998406163551671\n",
      "cost:0.9979650624389358\n",
      "cost:0.9973690505893945\n",
      "cost:0.9965445780938381\n",
      "cost:0.9953781156401703\n",
      "cost:0.993678368815174\n",
      "cost:0.9911305647071784\n",
      "cost:0.9871983794936866\n",
      "cost:0.9809904792547668\n",
      "cost:0.9697527519664147\n",
      "cost:0.9488584344591425\n",
      "cost:0.9073736011717597\n",
      "cost:0.8225153155005758\n",
      "cost:0.6724978730962454\n",
      "cost:0.5323260563015304\n",
      "cost:0.493864336715249\n",
      "cost:0.48690482050096473\n",
      "cost:0.4816316827913606\n",
      "cost:0.4769863689421074\n",
      "cost:0.47282289753802675\n",
      "cost:0.46899674701620164\n",
      "cost:0.4654688947681254\n",
      "cost:0.4622605558155942\n",
      "cost:0.4593677816949266\n",
      "cost:0.45638857977380554\n",
      "cost:0.45300965048369307\n",
      "cost:0.4496671270009125\n",
      "cost:0.4469015629830835\n",
      "cost:0.4443730864643627\n",
      "cost:0.44192261673688576\n",
      "cost:0.43943296332595955\n",
      "cost:0.43696292153109906\n",
      "cost:0.434444208977485\n"
     ]
    },
    {
     "data": {
      "image/png": "[encoded data removed]",
      "text/plain": [
       "<Figure size 432x288 with 1 Axes>"
      ]
     },
     "metadata": {
      "needs_background": "light"
     },
     "output_type": "display_data"
    },
    {
     "name": "stdout",
     "output_type": "stream",
     "text": [
      "weights saved successfully\n"
     ]
    }
   ],
   "source": [
    "#training the model\n",
    "NeuralNet1=Layer(2,[2,5],activation=['linear'])\n",
    "NeuralNet2=Layer(4,[8,15,11,2],activation=['relu','relu','linear'])\n",
    "epochs=500\n",
    "lr1=0.1\n",
    "lr2=0.01\n",
    "train.Train(X_net1_train_scaled.T,X_net2_train_scaled.T,Y_train_scaled.T,NeuralNet1,NeuralNet2,epochs,lr1,lr2,printcost=True)\n",
    "trainedNet1,trainedNet2=loadmodel.load_weights()"
   ]
  },
  {
   "cell_type": "code",
   "execution_count": 19,
   "metadata": {},
   "outputs": [],
   "source": [
    "Ypred=train.Predict(X_net1_train_scaled.T,X_net2_train_scaled.T,trainedNet1,trainedNet2)"
   ]
  },
  {
   "cell_type": "code",
   "execution_count": 20,
   "metadata": {},
   "outputs": [
    {
     "name": "stdout",
     "output_type": "stream",
     "text": [
      "TRAINING LOSS :0.43184524226614085\n"
     ]
    }
   ],
   "source": [
    "print('TRAINING LOSS :'+str((mse(Ypred.T,Y_train_scaled))))\n"
   ]
  },
  {
   "cell_type": "code",
   "execution_count": 21,
   "metadata": {},
   "outputs": [],
   "source": [
    "Ypred_cv=train.Predict(X_net1_cv_scaled.T,X_net2_cv_scaled.T,trainedNet1,trainedNet2) #FITTING CV SET"
   ]
  },
  {
   "cell_type": "code",
   "execution_count": 22,
   "metadata": {},
   "outputs": [
    {
     "name": "stdout",
     "output_type": "stream",
     "text": [
      "CROSS VALIDATION LOSS :0.44724037774938386\n"
     ]
    }
   ],
   "source": [
    "print('CROSS VALIDATION LOSS :'+ str(mse(Ypred_cv.T,Y_cv_scaled)))"
   ]
  },
  {
   "cell_type": "code",
   "execution_count": 23,
   "metadata": {},
   "outputs": [],
   "source": [
    "#EVALUATION WITH TEST SET\n",
    "Ypred_test=train.Test(X_test_net1_scaled.T,X_test_net2_scaled.T,test_days,trainedNet1,trainedNet2) "
   ]
  },
  {
   "cell_type": "code",
   "execution_count": 24,
   "metadata": {},
   "outputs": [
    {
     "name": "stdout",
     "output_type": "stream",
     "text": [
      "TEST LOSS : 0.41308501077655885\n"
     ]
    }
   ],
   "source": [
    "print('TEST LOSS : ' + str(mse(Ypred_test,y_test_data_scaled.T)))"
   ]
  }
 ],
 "metadata": {
  "kernelspec": {
   "display_name": "Python 3",
   "language": "python",
   "name": "python3"
  },
  "language_info": {
   "codemirror_mode": {
    "name": "ipython",
    "version": 3
   },
   "file_extension": ".py",
   "mimetype": "text/x-python",
   "name": "python",
   "nbconvert_exporter": "python",
   "pygments_lexer": "ipython3",
   "version": "3.7.6"
  }
 },
 "nbformat": 4,
 "nbformat_minor": 4
}
